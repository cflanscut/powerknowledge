{
 "metadata": {
  "language_info": {
   "codemirror_mode": {
    "name": "ipython",
    "version": 3
   },
   "file_extension": ".py",
   "mimetype": "text/x-python",
   "name": "python",
   "nbconvert_exporter": "python",
   "pygments_lexer": "ipython3",
   "version": "3.8.2"
  },
  "orig_nbformat": 2,
  "kernelspec": {
   "name": "python382jvsc74a57bd0b5f9473948cb6cc6acefe1e4d7af67cc2b95399d24746c153a73ff8f3dd5bf7d",
   "display_name": "Python 3.8.2 64-bit ('base': conda)"
  }
 },
 "nbformat": 4,
 "nbformat_minor": 2,
 "cells": [
  {
   "cell_type": "code",
   "execution_count": 1,
   "metadata": {},
   "outputs": [],
   "source": [
    "from sklearn.ensemble import GradientBoostingClassifier\n",
    "from sklearn import metrics\n",
    "from sklearn.preprocessing import LabelBinarizer\n",
    "import os\n",
    "import time\n",
    "import sys\n",
    "import numpy as np\n",
    "sys.path.append('/home/chaofan/powerknowledge/data')\n",
    "# sys.path.append('data/')\n",
    "from read_PLAID_data import read_processed_data,get_feature_name"
   ]
  },
  {
   "cell_type": "code",
   "execution_count": 2,
   "metadata": {},
   "outputs": [
    {
     "output_type": "stream",
     "name": "stdout",
     "text": [
      "finished loading data, cost 11.385s\n"
     ]
    }
   ],
   "source": [
    "start_reading_time = time.time()\n",
    "feature_select = [\n",
    "    'i_mean', 'i_wave_factor', 'i_pp_rms', 'i_thd', 'pure_thd', 'P', 'Q',\n",
    "    'P_F', 'i_hp1', 'z_hp1', 'i_hm2', 'z_hm2', 'i_hp2', 'z_hp2', 'i_hm3',\n",
    "    'z_hm3', 'i_hp3', 'z_hp3', 'i_hm4', 'z_hm4', 'i_hp4', 'z_hp4', 'i_hm5',\n",
    "    'z_hm5', 'i_hp5', 'z_hp5', 'i_hm6', 'z_hm6', 'i_hp6', 'z_hp6', 'i_hm7',\n",
    "    'z_hm7', 'i_hp7', 'z_hp7'\n",
    "]\n",
    "selected_label = [\n",
    "    'Air Conditioner', 'Blender', 'Coffee maker', 'Fan', 'Fridge', 'Hair Iron',\n",
    "    'Hairdryer', 'Heater', 'Incandescent Light Bulb', 'Microwave',\n",
    "    'Soldering Iron', 'Vacuum', 'Washing Machine', 'Water kettle'\n",
    "]\n",
    "x_mh_train, y_mh_train, mh_index_train = read_processed_data(\n",
    "    'type',\n",
    "    type_header='appliance',\n",
    "    selected_label=selected_label,\n",
    "    direaction=1,\n",
    "    offset=0,\n",
    "    each_lenth=1,\n",
    "    feature_select=feature_select,\n",
    "    source='submetered_process2.1/training')\n",
    "\n",
    "x_mh_validation, y_mh_validation, mh_index_validation = read_processed_data(\n",
    "    'type',\n",
    "    type_header='appliance',\n",
    "    selected_label=selected_label,\n",
    "    direaction=1,\n",
    "    offset=0,\n",
    "    each_lenth=1,\n",
    "    feature_select=feature_select,\n",
    "    source='submetered_process2.1/validation')\n",
    "\n",
    "x_mh_trainval = np.concatenate((x_mh_train, x_mh_validation), axis=0)\n",
    "y_mh_trainval = np.concatenate((y_mh_train, y_mh_validation), axis=0)\n",
    "\n",
    "x_mh_test, y_mh_test, mh_index_test = read_processed_data(\n",
    "    'type',\n",
    "    type_header='appliance',\n",
    "    selected_label=selected_label,\n",
    "    direaction=1,\n",
    "    offset=0,\n",
    "    each_lenth=1,\n",
    "    feature_select=feature_select,\n",
    "    source='submetered_process2.1/testing')\n",
    "print('finished loading data, cost %.3fs' % (time.time() - start_reading_time))"
   ]
  },
  {
   "cell_type": "code",
   "execution_count": 9,
   "metadata": {},
   "outputs": [
    {
     "output_type": "stream",
     "name": "stdout",
     "text": [
      "train best score: 0.858537\nAccuracy : 0.8129\nAUC Score (train): 1.000000\nAUC Score (test): 0.984286\nbest_n_estimator: 130\n"
     ]
    }
   ],
   "source": [
    "best_score = 0.0\n",
    "for n_estimator in range(10, 201, 10):\n",
    "    estimator = GradientBoostingClassifier(n_estimators=n_estimator,\n",
    "                                           learning_rate=0.1,\n",
    "                                           min_samples_split=10,\n",
    "                                           min_samples_leaf=5,\n",
    "                                           max_depth=8,\n",
    "                                           max_features='sqrt',\n",
    "                                           random_state=10)\n",
    "    estimator.fit(x_mh_train, y_mh_train)\n",
    "    score = estimator.score(x_mh_validation, y_mh_validation)\n",
    "    if score > best_score:\n",
    "        best_score = score\n",
    "        best_n_estimator = n_estimator\n",
    "gbc0 = GradientBoostingClassifier(n_estimators=best_n_estimator,\n",
    "                                  learning_rate=0.1,\n",
    "                                  min_samples_split=10,\n",
    "                                  min_samples_leaf=5,\n",
    "                                  max_depth=8,\n",
    "                                  max_features='sqrt',\n",
    "                                  random_state=10)\n",
    "gbc0.fit(x_mh_trainval, y_mh_trainval)\n",
    "y_trainval_pred = gbc0.predict(x_mh_trainval)\n",
    "y_trainval_predprob = gbc0.predict_proba(x_mh_trainval)\n",
    "y_trainval_one_hot = LabelBinarizer().fit_transform(y_mh_trainval)\n",
    "y_test_pred = gbc0.predict(x_mh_test)\n",
    "y_test_predprob = gbc0.predict_proba(x_mh_test)\n",
    "y_test_one_hot = LabelBinarizer().fit_transform(y_mh_test)\n",
    "print(\"train best score: %f\" % best_score)\n",
    "print(\"Accuracy : %.4g\" % metrics.accuracy_score(y_mh_test, y_test_pred))\n",
    "print(\"AUC Score (train): %f\" %\n",
    "      metrics.roc_auc_score(y_trainval_one_hot, y_trainval_predprob, average='micro'))\n",
    "print(\"AUC Score (test): %f\" %\n",
    "      metrics.roc_auc_score(y_test_one_hot, y_test_predprob, average='micro'))\n",
    "print('best_n_estimator: %02d' % best_n_estimator)\n"
   ]
  },
  {
   "cell_type": "code",
   "execution_count": 10,
   "metadata": {},
   "outputs": [
    {
     "output_type": "stream",
     "name": "stdout",
     "text": [
      "train best score: 0.892683\nAccuracy : 0.806\nAUC Score (train): 1.000000\nAUC Score (test): 0.985178\nbest_md: 08, best_mss: 16\n"
     ]
    }
   ],
   "source": [
    "best_score = 0.0\n",
    "for md in range(3,15,1):\n",
    "    for mss in range(2,20,2):\n",
    "        estimator = GradientBoostingClassifier(n_estimators=130,\n",
    "                                            learning_rate=0.1,\n",
    "                                            min_samples_split=mss,\n",
    "                                            min_samples_leaf=5,\n",
    "                                            max_depth=md,\n",
    "                                            max_features='sqrt',\n",
    "                                            random_state=10)\n",
    "        estimator.fit(x_mh_train, y_mh_train)\n",
    "        score = estimator.score(x_mh_validation, y_mh_validation)\n",
    "        if score > best_score:\n",
    "            best_score = score\n",
    "            best_md = md\n",
    "            best_mss = mss\n",
    "gbc0 = GradientBoostingClassifier(n_estimators=130,\n",
    "                                  learning_rate=0.1,\n",
    "                                  min_samples_split=best_mss,\n",
    "                                  min_samples_leaf=5,\n",
    "                                  max_depth=best_md,\n",
    "                                  max_features='sqrt',\n",
    "                                  random_state=10)\n",
    "gbc0.fit(x_mh_trainval, y_mh_trainval)\n",
    "y_trainval_pred = gbc0.predict(x_mh_trainval)\n",
    "y_trainval_predprob = gbc0.predict_proba(x_mh_trainval)\n",
    "y_trainval_one_hot = LabelBinarizer().fit_transform(y_mh_trainval)\n",
    "y_test_pred = gbc0.predict(x_mh_test)\n",
    "y_test_predprob = gbc0.predict_proba(x_mh_test)\n",
    "y_test_one_hot = LabelBinarizer().fit_transform(y_mh_test)\n",
    "print(\"train best score: %f\" % best_score)\n",
    "print(\"Accuracy : %.4g\" % metrics.accuracy_score(y_mh_test, y_test_pred))\n",
    "print(\"AUC Score (train): %f\" %\n",
    "      metrics.roc_auc_score(y_trainval_one_hot, y_trainval_predprob, average='micro'))\n",
    "print(\"AUC Score (test): %f\" %\n",
    "      metrics.roc_auc_score(y_test_one_hot, y_test_predprob, average='micro'))\n",
    "print('best_md: %02d, best_mss: %02d' % (best_md,best_mss))"
   ]
  },
  {
   "cell_type": "code",
   "execution_count": 11,
   "metadata": {},
   "outputs": [
    {
     "output_type": "stream",
     "name": "stdout",
     "text": [
      "train best score: 0.887805\nAccuracy : 0.8083\nAUC Score (train): 1.000000\nAUC Score (test): 0.980305\nbest_msl: 06, best_mss: 15\n"
     ]
    }
   ],
   "source": [
    "best_score = 0.0\n",
    "for msl in range(3,15,1):\n",
    "    for mss in range(5,51,5):\n",
    "        estimator = GradientBoostingClassifier(n_estimators=130,\n",
    "                                            learning_rate=0.1,\n",
    "                                            min_samples_split=mss,\n",
    "                                            min_samples_leaf=msl,\n",
    "                                            max_depth=8,\n",
    "                                            max_features='sqrt',\n",
    "                                            random_state=10)\n",
    "        estimator.fit(x_mh_train, y_mh_train)\n",
    "        score = estimator.score(x_mh_validation, y_mh_validation)\n",
    "        if score > best_score:\n",
    "            best_score = score\n",
    "            best_msl = msl\n",
    "            best_mss = mss\n",
    "gbc0 = GradientBoostingClassifier(n_estimators=130,\n",
    "                                  learning_rate=0.1,\n",
    "                                  min_samples_split=best_mss,\n",
    "                                  min_samples_leaf=best_msl,\n",
    "                                  max_depth=8,\n",
    "                                  max_features='sqrt',\n",
    "                                  random_state=10)\n",
    "gbc0.fit(x_mh_trainval, y_mh_trainval)\n",
    "y_trainval_pred = gbc0.predict(x_mh_trainval)\n",
    "y_trainval_predprob = gbc0.predict_proba(x_mh_trainval)\n",
    "y_trainval_one_hot = LabelBinarizer().fit_transform(y_mh_trainval)\n",
    "y_test_pred = gbc0.predict(x_mh_test)\n",
    "y_test_predprob = gbc0.predict_proba(x_mh_test)\n",
    "y_test_one_hot = LabelBinarizer().fit_transform(y_mh_test)\n",
    "print(\"train best score: %f\" % best_score)\n",
    "print(\"Accuracy : %.4g\" % metrics.accuracy_score(y_mh_test, y_test_pred))\n",
    "print(\"AUC Score (train): %f\" %\n",
    "      metrics.roc_auc_score(y_trainval_one_hot, y_trainval_predprob, average='micro'))\n",
    "print(\"AUC Score (test): %f\" %\n",
    "      metrics.roc_auc_score(y_test_one_hot, y_test_predprob, average='micro'))\n",
    "print('best_msl: %02d, best_mss: %02d' % (best_msl,best_mss))"
   ]
  },
  {
   "cell_type": "code",
   "execution_count": 16,
   "metadata": {},
   "outputs": [
    {
     "output_type": "stream",
     "name": "stdout",
     "text": [
      "Accuracy : 0.8083\nAUC Score (train): 0.998997\nAUC Score (test): 0.981976\n"
     ]
    }
   ],
   "source": [
    "gbc0 = GradientBoostingClassifier(n_estimators=130,\n",
    "                                  learning_rate=0.1,\n",
    "                                  min_samples_split=16,\n",
    "                                  min_samples_leaf=5,\n",
    "                                  max_depth=8,\n",
    "                                  random_state=10)\n",
    "gbc0.fit(x_mh_trainval, y_mh_trainval)\n",
    "y_trainval_pred = gbc0.predict(x_mh_trainval)\n",
    "y_trainval_predprob = gbc0.predict_proba(x_mh_trainval)\n",
    "y_trainval_one_hot = LabelBinarizer().fit_transform(y_mh_trainval)\n",
    "y_test_pred = gbc0.predict(x_mh_test)\n",
    "y_test_predprob = gbc0.predict_proba(x_mh_test)\n",
    "y_test_one_hot = LabelBinarizer().fit_transform(y_mh_test)\n",
    "\n",
    "print(\"Accuracy : %.4g\" % metrics.accuracy_score(y_mh_test, y_test_pred))\n",
    "print(\"AUC Score (train): %f\" %\n",
    "      metrics.roc_auc_score(y_trainval_one_hot, y_trainval_predprob, average='micro'))\n",
    "print(\"AUC Score (test): %f\" %\n",
    "      metrics.roc_auc_score(y_test_one_hot, y_test_predprob, average='micro'))"
   ]
  },
  {
   "cell_type": "code",
   "execution_count": 2,
   "metadata": {},
   "outputs": [
    {
     "output_type": "stream",
     "name": "stdout",
     "text": [
      "finished loading data, cost 6.871s\n"
     ]
    }
   ],
   "source": [
    "# test zengj\n",
    "start_reading_time = time.time()\n",
    "feature_select=get_feature_name('/home/chaofan/powerknowledge/data/source/submetered_zengj/total')\n",
    "selected_label = [\n",
    "    'Air Conditioner', 'Blender', 'Coffee maker', 'Fan', 'Fridge', 'Hair Iron',\n",
    "    'Hairdryer', 'Heater', 'Incandescent Light Bulb', 'Microwave',\n",
    "    'Soldering Iron', 'Vacuum', 'Washing Machine', 'Water kettle'\n",
    "]\n",
    "x_mh_train, y_mh_train, mh_index_train = read_processed_data(\n",
    "    'type',\n",
    "    type_header='appliance',\n",
    "    selected_label=selected_label,\n",
    "    direaction=1,\n",
    "    offset=0,\n",
    "    each_lenth=1,\n",
    "    feature_select=feature_select,\n",
    "    source='submetered_zengj/training')\n",
    "\n",
    "x_mh_validation, y_mh_validation, mh_index_validation = read_processed_data(\n",
    "    'type',\n",
    "    type_header='appliance',\n",
    "    selected_label=selected_label,\n",
    "    direaction=1,\n",
    "    offset=0,\n",
    "    each_lenth=1,\n",
    "    feature_select=feature_select,\n",
    "    source='submetered_zengj/validation')\n",
    "\n",
    "x_mh_trainval = np.concatenate((x_mh_train, x_mh_validation), axis=0)\n",
    "y_mh_trainval = np.concatenate((y_mh_train, y_mh_validation), axis=0)\n",
    "\n",
    "x_mh_test, y_mh_test, mh_index_test = read_processed_data(\n",
    "    'type',\n",
    "    type_header='appliance',\n",
    "    selected_label=selected_label,\n",
    "    direaction=1,\n",
    "    offset=0,\n",
    "    each_lenth=1,\n",
    "    feature_select=feature_select,\n",
    "    source='submetered_zengj/testing')\n",
    "print('finished loading data, cost %.3fs' % (time.time() - start_reading_time))"
   ]
  },
  {
   "cell_type": "code",
   "execution_count": 5,
   "metadata": {},
   "outputs": [
    {
     "output_type": "stream",
     "name": "stdout",
     "text": [
      "Accuracy : 0.7991\nAUC Score (train): 0.998997\nAUC Score (test): 0.971728\n"
     ]
    }
   ],
   "source": [
    "gbc0 = GradientBoostingClassifier(n_estimators=140,\n",
    "                                  learning_rate=0.1,\n",
    "                                  min_samples_split=16,\n",
    "                                  min_samples_leaf=5,\n",
    "                                  max_depth=8,\n",
    "                                  random_state=10)\n",
    "gbc0.fit(x_mh_trainval, y_mh_trainval)\n",
    "y_trainval_pred = gbc0.predict(x_mh_trainval)\n",
    "y_trainval_predprob = gbc0.predict_proba(x_mh_trainval)\n",
    "y_trainval_one_hot = LabelBinarizer().fit_transform(y_mh_trainval)\n",
    "y_test_pred = gbc0.predict(x_mh_test)\n",
    "y_test_predprob = gbc0.predict_proba(x_mh_test)\n",
    "y_test_one_hot = LabelBinarizer().fit_transform(y_mh_test)\n",
    "\n",
    "print(\"Accuracy : %.4g\" % metrics.accuracy_score(y_mh_test, y_test_pred))\n",
    "print(\"AUC Score (train): %f\" %\n",
    "      metrics.roc_auc_score(y_trainval_one_hot, y_trainval_predprob, average='micro'))\n",
    "print(\"AUC Score (test): %f\" %\n",
    "      metrics.roc_auc_score(y_test_one_hot, y_test_predprob, average='micro'))"
   ]
  },
  {
   "cell_type": "code",
   "execution_count": null,
   "metadata": {},
   "outputs": [],
   "source": []
  }
 ]
}